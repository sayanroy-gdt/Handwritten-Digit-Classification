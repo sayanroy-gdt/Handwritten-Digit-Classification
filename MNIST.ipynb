{
  "nbformat": 4,
  "nbformat_minor": 0,
  "metadata": {
    "colab": {
      "name": "MNIST.ipynb",
      "provenance": []
    },
    "kernelspec": {
      "name": "python3",
      "display_name": "Python 3"
    }
  },
  "cells": [
    {
      "cell_type": "code",
      "metadata": {
        "id": "ud0lEnFh4_iL",
        "colab": {
          "base_uri": "https://localhost:8080/",
          "height": 151
        },
        "outputId": "3daba36b-e15d-44fb-9554-d787c2a1393f"
      },
      "source": [
        "import tensorflow as tf\n",
        "import matplotlib.pyplot as plt\n",
        "\n",
        "mnist = tf.keras.datasets.mnist\n",
        "\n",
        "(trainX, trainY),(x_test, testY) = mnist.load_data()#Note that the pixel data ranges from 0 to 255\n",
        "\n",
        "#Now we need to normalize it into values less than one which will be fruitful in the future\n",
        "trainX = tf.keras.utils.normalize(trainX, axis= 1)\n",
        "x_test = tf.keras.utils.normalize(x_test, axis=1)\n",
        "#now the pixel values are all less than 1, this will significantly effect in future\n",
        "\n",
        "#plt.imshow(trainX[0], plt.cm.binary) #cm = colour mapping\n",
        "#plt.show()\n",
        "\n",
        "model = tf.keras.models.Sequential()\n",
        "model.add(tf.keras.layers.Flatten())\n",
        "model.add(tf.keras.layers.Dense(128, activation=tf.nn.relu))\n",
        "model.add(tf.keras.layers.Dense(128, activation=tf.nn.relu))\n",
        "model.add(tf.keras.layers.Dense(10, activation=tf.nn.softmax))\n",
        "\n",
        "model.compile(optimizer='adam',\n",
        "              loss='sparse_categorical_crossentropy',\n",
        "              metrics=['accuracy'])\n",
        "\n",
        "model.fit(trainX, trainY, epochs=3)"
      ],
      "execution_count": null,
      "outputs": [
        {
          "output_type": "stream",
          "text": [
            "Train on 60000 samples\n",
            "Epoch 1/3\n",
            "60000/60000 [==============================] - 5s 85us/sample - loss: 0.2622 - acc: 0.9246\n",
            "Epoch 2/3\n",
            "60000/60000 [==============================] - 5s 85us/sample - loss: 0.1092 - acc: 0.9657\n",
            "Epoch 3/3\n",
            "60000/60000 [==============================] - 5s 85us/sample - loss: 0.0739 - acc: 0.9766\n"
          ],
          "name": "stdout"
        },
        {
          "output_type": "execute_result",
          "data": {
            "text/plain": [
              "<tensorflow.python.keras.callbacks.History at 0x7f4a7949f438>"
            ]
          },
          "metadata": {
            "tags": []
          },
          "execution_count": 10
        }
      ]
    },
    {
      "cell_type": "code",
      "metadata": {
        "id": "OJkNou1o5El3",
        "colab": {
          "base_uri": "https://localhost:8080/",
          "height": 50
        },
        "outputId": "92417ed2-e003-4e8a-d8ab-565a4351d2e9"
      },
      "source": [
        "val_loss, val_acc = model.evaluate(x_test, testY)\n",
        "print(val_loss, val_acc)"
      ],
      "execution_count": null,
      "outputs": [
        {
          "output_type": "stream",
          "text": [
            "10000/10000 [==============================] - 0s 39us/sample - loss: 49.9904 - acc: 0.9615\n",
            "49.99038365064856 0.9615\n"
          ],
          "name": "stdout"
        }
      ]
    },
    {
      "cell_type": "code",
      "metadata": {
        "id": "4-QDiI0P9zeX"
      },
      "source": [
        "model.save('num_reader.model')"
      ],
      "execution_count": null,
      "outputs": []
    },
    {
      "cell_type": "code",
      "metadata": {
        "id": "SCQ7Ix_u-dkl",
        "colab": {
          "base_uri": "https://localhost:8080/",
          "height": 50
        },
        "outputId": "1dfa1640-fcb9-4721-97eb-e71b13127cca"
      },
      "source": [
        "predictions = model.predict([x_test])\n",
        "print(predictions[0])"
      ],
      "execution_count": null,
      "outputs": [
        {
          "output_type": "stream",
          "text": [
            "[1.8991408e-08 1.4038326e-06 6.8438225e-05 3.4197270e-05 2.8535905e-09\n",
            " 1.9398237e-06 1.2396666e-11 9.9989367e-01 1.3933987e-07 1.7026119e-07]\n"
          ],
          "name": "stdout"
        }
      ]
    },
    {
      "cell_type": "code",
      "metadata": {
        "id": "FCzJvUWX_D_8",
        "colab": {
          "base_uri": "https://localhost:8080/",
          "height": 34
        },
        "outputId": "38533a3f-9ea3-4080-a6d3-406707ecfe8f"
      },
      "source": [
        "import numpy as np\n",
        "\n",
        "print(np.argmax(predictions[1]))"
      ],
      "execution_count": null,
      "outputs": [
        {
          "output_type": "stream",
          "text": [
            "2\n"
          ],
          "name": "stdout"
        }
      ]
    },
    {
      "cell_type": "code",
      "metadata": {
        "id": "LeLm9d3JExeA",
        "colab": {
          "base_uri": "https://localhost:8080/",
          "height": 265
        },
        "outputId": "26143be6-faad-44e7-fdff-420de89d40f0"
      },
      "source": [
        "plt.imshow(x_test[1])\n",
        "plt.show()"
      ],
      "execution_count": null,
      "outputs": [
        {
          "output_type": "display_data",
          "data": {
            "image/png": "[encoded data removed]",
            "text/plain": [
              "<Figure size 432x288 with 1 Axes>"
            ]
          },
          "metadata": {
            "tags": []
          }
        }
      ]
    },
    {
      "cell_type": "code",
      "metadata": {
        "id": "L2a8bcO9E8Xv"
      },
      "source": [
        ""
      ],
      "execution_count": null,
      "outputs": []
    }
  ]
}